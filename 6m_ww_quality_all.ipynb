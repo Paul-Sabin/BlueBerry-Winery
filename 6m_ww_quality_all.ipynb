{
 "cells": [
  {
   "cell_type": "code",
   "execution_count": 16,
   "metadata": {},
   "outputs": [],
   "source": [
    "import pandas as pd\n",
    "import numpy as np\n",
    "import seaborn as sns\n",
    "import matplotlib.pyplot as plt\n",
    "\n",
    "from sklearn.model_selection import train_test_split\n",
    "from sklearn.preprocessing import LabelEncoder\n",
    "from sklearn.preprocessing import StandardScaler\n",
    "from sklearn.preprocessing import RobustScaler\n",
    "from sklearn.preprocessing import MinMaxScaler\n",
    "from sklearn.metrics import accuracy_score, confusion_matrix, precision_score, recall_score, f1_score, cohen_kappa_score\n",
    "from sklearn.model_selection import cross_val_score\n",
    "from sklearn.model_selection import RandomizedSearchCV\n",
    "from sklearn.model_selection import GridSearchCV\n",
    "from scipy.stats import uniform, randint\n",
    "\n",
    "# Import the relevant models - random forest and others for comparison:\n",
    "from sklearn.svm import SVC\n",
    "from sklearn.tree import DecisionTreeClassifier\n",
    "from sklearn.ensemble import RandomForestClassifier\n",
    "from sklearn.neural_network import MLPClassifier\n"
   ]
  },
  {
   "cell_type": "code",
   "execution_count": 5,
   "metadata": {},
   "outputs": [],
   "source": [
    "ww = pd.read_csv('C:\\Asus WebStorage\\psabin@gmail.com\\MySyncFolder\\Data Science Course\\BlueBerry Winery\\winequality-white.csv', sep=';')\n",
    "red_wine = pd.read_csv('C:\\Asus WebStorage\\psabin@gmail.com\\MySyncFolder\\Data Science Course\\BlueBerry Winery\\winequality-red.csv', sep=';')"
   ]
  },
  {
   "cell_type": "code",
   "execution_count": 6,
   "metadata": {},
   "outputs": [],
   "source": [
    "ww['quality_label'] = ww['quality'].apply(lambda value: 'low'\n",
    "if value <= 5 else 'medium'\n",
    "if value <= 6 else 'high')\n",
    "\n",
    "red_wine['quality_label'] = red_wine['quality'].apply(lambda value: 'low'\n",
    "if value <= 5 else 'medium'\n",
    "if value <= 6 else 'high')\n",
    "\n",
    "# here we are transforming these labels into categrical data type (specific to pandas) instead of simple string\n",
    "red_wine['quality_label'] = pd.Categorical(red_wine['quality_label'],\n",
    "categories=['low', 'medium', 'high'])\n",
    "\n",
    "# here we are transforming these labels into categrical data type (specific to pandas) instead of simple string\n",
    "ww['quality_label'] = pd.Categorical(ww['quality_label'],\n",
    "categories=['low', 'medium', 'high'])"
   ]
  },
  {
   "cell_type": "code",
   "execution_count": 8,
   "metadata": {},
   "outputs": [
    {
     "data": {
      "image/png": "[encoded data removed]",
      "text/plain": [
       "<Figure size 1200x600 with 2 Axes>"
      ]
     },
     "metadata": {},
     "output_type": "display_data"
    }
   ],
   "source": [
    "# Get counts for red wine\n",
    "red_count_series = red_wine['quality_label'].value_counts().reindex(['low', 'medium', 'high'])\n",
    "\n",
    "# Get counts for white wine\n",
    "white_count_series = ww['quality_label'].value_counts().reindex(['low', 'medium', 'high'])\n",
    "\n",
    "# x and y coordinates for red and white wine\n",
    "x_red = red_count_series.index\n",
    "y_red = red_count_series.values\n",
    "\n",
    "x_white = white_count_series.index\n",
    "y_white = white_count_series.values\n",
    "\n",
    "# Initialize subplots\n",
    "fig, axes = plt.subplots(1, 2, figsize=(12, 6))\n",
    "\n",
    "# Bar chart for Red Wine\n",
    "axes[0].bar(x_red, y_red, width=0.9, color='indigo')\n",
    "axes[0].set_title('Red Wine Quality Count')\n",
    "axes[0].set_xlabel('Category')\n",
    "\n",
    "# Bar chart for White Wine\n",
    "axes[1].bar(x_white, y_white, width=0.9, color='green')\n",
    "axes[1].set_title('White Wine Quality Count')\n",
    "axes[1].set_xlabel('Category')\n",
    "\n",
    "# Display plots\n",
    "plt.tight_layout()\n",
    "plt.show()"
   ]
  },
  {
   "cell_type": "code",
   "execution_count": 9,
   "metadata": {},
   "outputs": [],
   "source": [
    "\n",
    "le = LabelEncoder()\n",
    "ww['encoded_quality_label'] = le.fit_transform(ww['quality_label'])  \n"
   ]
  },
  {
   "cell_type": "code",
   "execution_count": 10,
   "metadata": {},
   "outputs": [],
   "source": [
    "# Swap 0 for 3 to make the order make sense from low to high\n",
    "ww['encoded_quality_label'].replace(0,3,inplace=True)"
   ]
  },
  {
   "cell_type": "code",
   "execution_count": 11,
   "metadata": {},
   "outputs": [],
   "source": [
    "ww.drop(['quality_label'], axis=1, inplace=True)"
   ]
  },
  {
   "cell_type": "code",
   "execution_count": 12,
   "metadata": {},
   "outputs": [
    {
     "data": {
      "text/html": [
       "<div>\n",
       "<style scoped>\n",
       "    .dataframe tbody tr th:only-of-type {\n",
       "        vertical-align: middle;\n",
       "    }\n",
       "\n",
       "    .dataframe tbody tr th {\n",
       "        vertical-align: top;\n",
       "    }\n",
       "\n",
       "    .dataframe thead th {\n",
       "        text-align: right;\n",
       "    }\n",
       "</style>\n",
       "<table border=\"1\" class=\"dataframe\">\n",
       "  <thead>\n",
       "    <tr style=\"text-align: right;\">\n",
       "      <th></th>\n",
       "      <th>fixed acidity</th>\n",
       "      <th>volatile acidity</th>\n",
       "      <th>citric acid</th>\n",
       "      <th>residual sugar</th>\n",
       "      <th>chlorides</th>\n",
       "      <th>free sulfur dioxide</th>\n",
       "      <th>total sulfur dioxide</th>\n",
       "      <th>density</th>\n",
       "      <th>pH</th>\n",
       "      <th>sulphates</th>\n",
       "      <th>alcohol</th>\n",
       "      <th>encoded_quality_label</th>\n",
       "    </tr>\n",
       "  </thead>\n",
       "  <tbody>\n",
       "    <tr>\n",
       "      <th>0</th>\n",
       "      <td>7.0</td>\n",
       "      <td>0.27</td>\n",
       "      <td>0.36</td>\n",
       "      <td>20.7</td>\n",
       "      <td>0.045</td>\n",
       "      <td>45.0</td>\n",
       "      <td>170.0</td>\n",
       "      <td>1.0010</td>\n",
       "      <td>3.00</td>\n",
       "      <td>0.45</td>\n",
       "      <td>8.8</td>\n",
       "      <td>2</td>\n",
       "    </tr>\n",
       "    <tr>\n",
       "      <th>1</th>\n",
       "      <td>6.3</td>\n",
       "      <td>0.30</td>\n",
       "      <td>0.34</td>\n",
       "      <td>1.6</td>\n",
       "      <td>0.049</td>\n",
       "      <td>14.0</td>\n",
       "      <td>132.0</td>\n",
       "      <td>0.9940</td>\n",
       "      <td>3.30</td>\n",
       "      <td>0.49</td>\n",
       "      <td>9.5</td>\n",
       "      <td>2</td>\n",
       "    </tr>\n",
       "    <tr>\n",
       "      <th>2</th>\n",
       "      <td>8.1</td>\n",
       "      <td>0.28</td>\n",
       "      <td>0.40</td>\n",
       "      <td>6.9</td>\n",
       "      <td>0.050</td>\n",
       "      <td>30.0</td>\n",
       "      <td>97.0</td>\n",
       "      <td>0.9951</td>\n",
       "      <td>3.26</td>\n",
       "      <td>0.44</td>\n",
       "      <td>10.1</td>\n",
       "      <td>2</td>\n",
       "    </tr>\n",
       "    <tr>\n",
       "      <th>3</th>\n",
       "      <td>7.2</td>\n",
       "      <td>0.23</td>\n",
       "      <td>0.32</td>\n",
       "      <td>8.5</td>\n",
       "      <td>0.058</td>\n",
       "      <td>47.0</td>\n",
       "      <td>186.0</td>\n",
       "      <td>0.9956</td>\n",
       "      <td>3.19</td>\n",
       "      <td>0.40</td>\n",
       "      <td>9.9</td>\n",
       "      <td>2</td>\n",
       "    </tr>\n",
       "    <tr>\n",
       "      <th>4</th>\n",
       "      <td>7.2</td>\n",
       "      <td>0.23</td>\n",
       "      <td>0.32</td>\n",
       "      <td>8.5</td>\n",
       "      <td>0.058</td>\n",
       "      <td>47.0</td>\n",
       "      <td>186.0</td>\n",
       "      <td>0.9956</td>\n",
       "      <td>3.19</td>\n",
       "      <td>0.40</td>\n",
       "      <td>9.9</td>\n",
       "      <td>2</td>\n",
       "    </tr>\n",
       "  </tbody>\n",
       "</table>\n",
       "</div>"
      ],
      "text/plain": [
       "   fixed acidity  volatile acidity  citric acid  residual sugar  chlorides  \\\n",
       "0            7.0              0.27         0.36            20.7      0.045   \n",
       "1            6.3              0.30         0.34             1.6      0.049   \n",
       "2            8.1              0.28         0.40             6.9      0.050   \n",
       "3            7.2              0.23         0.32             8.5      0.058   \n",
       "4            7.2              0.23         0.32             8.5      0.058   \n",
       "\n",
       "   free sulfur dioxide  total sulfur dioxide  density    pH  sulphates  \\\n",
       "0                 45.0                 170.0   1.0010  3.00       0.45   \n",
       "1                 14.0                 132.0   0.9940  3.30       0.49   \n",
       "2                 30.0                  97.0   0.9951  3.26       0.44   \n",
       "3                 47.0                 186.0   0.9956  3.19       0.40   \n",
       "4                 47.0                 186.0   0.9956  3.19       0.40   \n",
       "\n",
       "   alcohol  encoded_quality_label  \n",
       "0      8.8                      2  \n",
       "1      9.5                      2  \n",
       "2     10.1                      2  \n",
       "3      9.9                      2  \n",
       "4      9.9                      2  "
      ]
     },
     "metadata": {},
     "output_type": "display_data"
    }
   ],
   "source": [
    "ww.drop(['quality'], axis=1, inplace=True)\n",
    "display(ww.head())"
   ]
  },
  {
   "cell_type": "markdown",
   "metadata": {},
   "source": [
    "## Select the features to use as inputs"
   ]
  },
  {
   "cell_type": "code",
   "execution_count": 13,
   "metadata": {},
   "outputs": [],
   "source": [
    "# Select ALL features\n",
    "ww_select = ww.drop(['encoded_quality_label'], axis=1)"
   ]
  },
  {
   "cell_type": "markdown",
   "metadata": {},
   "source": [
    "## Create column-vector for quality_label (y)"
   ]
  },
  {
   "cell_type": "code",
   "execution_count": 14,
   "metadata": {},
   "outputs": [
    {
     "data": {
      "text/plain": [
       "0    2\n",
       "1    2\n",
       "2    2\n",
       "3    2\n",
       "4    2\n",
       "Name: encoded_quality_label, dtype: int32"
      ]
     },
     "metadata": {},
     "output_type": "display_data"
    },
    {
     "data": {
      "text/plain": [
       "(4898,)"
      ]
     },
     "metadata": {},
     "output_type": "display_data"
    }
   ],
   "source": [
    "y_ww_quality = ww.encoded_quality_label\n",
    "display(y_ww_quality.head())\n",
    "display(y_ww_quality.shape)"
   ]
  },
  {
   "cell_type": "markdown",
   "metadata": {},
   "source": [
    "## Split into train and test data"
   ]
  },
  {
   "cell_type": "code",
   "execution_count": 15,
   "metadata": {},
   "outputs": [],
   "source": [
    "ww_features_train, ww_features_test, ww_quality_train, ww_quality_test = train_test_split(ww_select,y_ww_quality,test_size=0.2, random_state=19)"
   ]
  },
  {
   "cell_type": "markdown",
   "metadata": {},
   "source": [
    "## Scale wine features to even out their impact on the model"
   ]
  },
  {
   "cell_type": "code",
   "execution_count": 17,
   "metadata": {},
   "outputs": [],
   "source": [
    "\n",
    "# Also try different methods of normalization/standardization\n",
    "scaler = RobustScaler()\n",
    "ww_features_train_scaled = scaler.fit_transform(ww_features_train)\n",
    "ww_features_test_scaled = scaler.transform(ww_features_test)"
   ]
  },
  {
   "cell_type": "code",
   "execution_count": 23,
   "metadata": {},
   "outputs": [],
   "source": [
    "best_params = {'n_estimators': 200,\n",
    " 'min_samples_split': 2,\n",
    " 'min_samples_leaf': 1,\n",
    " 'max_features': 'log2',\n",
    " 'max_depth': 50,\n",
    " 'criterion': 'entropy',\n",
    " 'bootstrap': True}"
   ]
  },
  {
   "cell_type": "markdown",
   "metadata": {},
   "source": [
    "## Create a function with several ML models at once"
   ]
  },
  {
   "cell_type": "code",
   "execution_count": 25,
   "metadata": {},
   "outputs": [],
   "source": [
    "def model_accuracy_comparison(X_train, y_train, X_test, y_test):\n",
    "    # Create an array of classification models (classifiers)\n",
    "    classifiers = [\n",
    "        ('Random Forest Tuned Robust', RandomForestClassifier(**best_params)),\n",
    "        ('Random Forest Tuned', RandomForestClassifier(n_estimators = 50, min_samples_split=2, min_samples_leaf=1, max_features='log2', max_depth=20, criterion = 'entropy', bootstrap=True, random_state = 0)),\n",
    "        ('Random Forest', RandomForestClassifier(n_estimators = 100, criterion = 'entropy', random_state = 0)),\n",
    "        ('Decision Tree', DecisionTreeClassifier(criterion = 'gini', random_state = 0)),\n",
    "        ('Neural Network', MLPClassifier(hidden_layer_sizes=(100,), max_iter=1000, learning_rate_init=0.001, early_stopping=True, activation='relu', solver='adam', random_state=0)),\n",
    "        \n",
    "    ]\n",
    "    # Create a figure to accommodate the heatmaps for each model\n",
    "    fig, axs = plt.subplots(1, len(classifiers), figsize=(16, 3))\n",
    "    \n",
    "    metrics_df = pd.DataFrame(columns=['Classifier', 'Test Accuracy', 'Train Accuracy', 'Precision', 'Recall', 'F1-Score'])\n",
    "\n",
    "    for idx, (name, clf) in enumerate(classifiers):\n",
    "        clf.fit(X_train, y_train)\n",
    "        train_predictions = clf.predict(X_train)\n",
    "        test_predictions = clf.predict(X_test)\n",
    "        \n",
    "        # Calculate metrics\n",
    "        train_accuracy = (accuracy_score(y_train, train_predictions) * 100).round(2)\n",
    "        test_accuracy = (accuracy_score(y_test, test_predictions) * 100).round(2)\n",
    "        precision = (precision_score(y_test, test_predictions, average='weighted') * 100).round(2)\n",
    "        recall = (recall_score(y_test, test_predictions, average='weighted') * 100).round(2)\n",
    "        f1 = (f1_score(y_test, test_predictions, average='weighted') * 100).round(2)\n",
    "        cohen_kappa = cohen_kappa_score(y_test, test_predictions).round(2)\n",
    "        \n",
    "        # Create confusion matrix and heatmap of it\n",
    "        cm = confusion_matrix(y_test, test_predictions)\n",
    "\n",
    "        # Create a mask for off-diagonal cells\n",
    "        mask = np.ones_like(cm, dtype=bool)\n",
    "        np.fill_diagonal(mask, 0)\n",
    "\n",
    "        bleh_green_palette = sns.diverging_palette(70, 100, s=100, l=50, as_cmap=True)\n",
    "        correct_cmap = sns.color_palette(\"viridis_r\", as_cmap=True)\n",
    "        green_palette = sns.color_palette(palette='Greens_d')\n",
    "        summer_palette = sns.color_palette(palette='summer_r')\n",
    "        incorrect_cmap = sns.color_palette(\"flare\", as_cmap=True)\n",
    "\n",
    "        \n",
    "        # Plot the heatmap with the mask\n",
    "        sns.heatmap(cm, annot=True, fmt=\"d\", cmap=summer_palette, mask=mask, cbar=False, ax=axs[idx])\n",
    "        sns.heatmap(cm, annot=True, fmt=\"d\", cmap=incorrect_cmap, mask=~mask, cbar=False, ax=axs[idx], vmax=cm.max())\n",
    "        axs[idx].set_title(name)\n",
    "        axs[idx].set_xlabel('Predicted labels')\n",
    "        axs[idx].set_ylabel('True labels')\n",
    "\n",
    "        metrics_row = {\n",
    "            'Classifier': name,\n",
    "            'Test Accuracy': test_accuracy,\n",
    "            'Train Accuracy': train_accuracy,\n",
    "            'Precision': precision,\n",
    "            'Recall': recall,\n",
    "            'F1-Score': f1,\n",
    "            \"Cohen's Kappa\": cohen_kappa\n",
    "        }\n",
    "\n",
    "        metrics_df = pd.concat([metrics_df, pd.DataFrame([metrics_row])]).reset_index(drop=True)\n",
    "        metrics_df = metrics_df.sort_values(by='Test Accuracy', ascending=False).reset_index(drop=True)\n",
    "    \n",
    "    # Display the heatmap visualization\n",
    "    plt.tight_layout()\n",
    "    plt.show()\n",
    "\n",
    "    display(metrics_df)"
   ]
  },
  {
   "cell_type": "markdown",
   "metadata": {},
   "source": [
    "Call the big function on white wine features (input) quality (output)"
   ]
  },
  {
   "cell_type": "code",
   "execution_count": 26,
   "metadata": {},
   "outputs": [
    {
     "data": {
      "image/png": "[encoded data removed]",
      "text/plain": [
       "<Figure size 1600x300 with 5 Axes>"
      ]
     },
     "metadata": {},
     "output_type": "display_data"
    },
    {
     "data": {
      "text/html": [
       "<div>\n",
       "<style scoped>\n",
       "    .dataframe tbody tr th:only-of-type {\n",
       "        vertical-align: middle;\n",
       "    }\n",
       "\n",
       "    .dataframe tbody tr th {\n",
       "        vertical-align: top;\n",
       "    }\n",
       "\n",
       "    .dataframe thead th {\n",
       "        text-align: right;\n",
       "    }\n",
       "</style>\n",
       "<table border=\"1\" class=\"dataframe\">\n",
       "  <thead>\n",
       "    <tr style=\"text-align: right;\">\n",
       "      <th></th>\n",
       "      <th>Classifier</th>\n",
       "      <th>Test Accuracy</th>\n",
       "      <th>Train Accuracy</th>\n",
       "      <th>Precision</th>\n",
       "      <th>Recall</th>\n",
       "      <th>F1-Score</th>\n",
       "      <th>Cohen's Kappa</th>\n",
       "    </tr>\n",
       "  </thead>\n",
       "  <tbody>\n",
       "    <tr>\n",
       "      <th>0</th>\n",
       "      <td>Random Forest</td>\n",
       "      <td>73.27</td>\n",
       "      <td>100.00</td>\n",
       "      <td>74.06</td>\n",
       "      <td>73.27</td>\n",
       "      <td>73.18</td>\n",
       "      <td>0.57</td>\n",
       "    </tr>\n",
       "    <tr>\n",
       "      <th>1</th>\n",
       "      <td>Random Forest Tuned Robust</td>\n",
       "      <td>73.06</td>\n",
       "      <td>100.00</td>\n",
       "      <td>73.77</td>\n",
       "      <td>73.06</td>\n",
       "      <td>73.02</td>\n",
       "      <td>0.57</td>\n",
       "    </tr>\n",
       "    <tr>\n",
       "      <th>2</th>\n",
       "      <td>Random Forest Tuned</td>\n",
       "      <td>71.63</td>\n",
       "      <td>100.00</td>\n",
       "      <td>72.40</td>\n",
       "      <td>71.63</td>\n",
       "      <td>71.54</td>\n",
       "      <td>0.55</td>\n",
       "    </tr>\n",
       "    <tr>\n",
       "      <th>3</th>\n",
       "      <td>Decision Tree</td>\n",
       "      <td>65.00</td>\n",
       "      <td>100.00</td>\n",
       "      <td>65.00</td>\n",
       "      <td>65.00</td>\n",
       "      <td>64.98</td>\n",
       "      <td>0.45</td>\n",
       "    </tr>\n",
       "    <tr>\n",
       "      <th>4</th>\n",
       "      <td>Neural Network</td>\n",
       "      <td>58.78</td>\n",
       "      <td>63.14</td>\n",
       "      <td>59.57</td>\n",
       "      <td>58.78</td>\n",
       "      <td>58.06</td>\n",
       "      <td>0.33</td>\n",
       "    </tr>\n",
       "  </tbody>\n",
       "</table>\n",
       "</div>"
      ],
      "text/plain": [
       "                   Classifier  Test Accuracy  Train Accuracy  Precision  \\\n",
       "0               Random Forest          73.27          100.00      74.06   \n",
       "1  Random Forest Tuned Robust          73.06          100.00      73.77   \n",
       "2         Random Forest Tuned          71.63          100.00      72.40   \n",
       "3               Decision Tree          65.00          100.00      65.00   \n",
       "4              Neural Network          58.78           63.14      59.57   \n",
       "\n",
       "   Recall  F1-Score  Cohen's Kappa  \n",
       "0   73.27     73.18           0.57  \n",
       "1   73.06     73.02           0.57  \n",
       "2   71.63     71.54           0.55  \n",
       "3   65.00     64.98           0.45  \n",
       "4   58.78     58.06           0.33  "
      ]
     },
     "metadata": {},
     "output_type": "display_data"
    }
   ],
   "source": [
    "model_accuracy_comparison(ww_features_train_scaled, ww_quality_train, ww_features_test_scaled, ww_quality_test)"
   ]
  },
  {
   "cell_type": "code",
   "execution_count": 22,
   "metadata": {},
   "outputs": [
    {
     "data": {
      "text/html": [
       "<div>\n",
       "<style scoped>\n",
       "    .dataframe tbody tr th:only-of-type {\n",
       "        vertical-align: middle;\n",
       "    }\n",
       "\n",
       "    .dataframe tbody tr th {\n",
       "        vertical-align: top;\n",
       "    }\n",
       "\n",
       "    .dataframe thead th {\n",
       "        text-align: right;\n",
       "    }\n",
       "</style>\n",
       "<table border=\"1\" class=\"dataframe\">\n",
       "  <thead>\n",
       "    <tr style=\"text-align: right;\">\n",
       "      <th></th>\n",
       "      <th>Classifier</th>\n",
       "      <th>Mean Accuracy</th>\n",
       "      <th>Standard Deviation</th>\n",
       "    </tr>\n",
       "  </thead>\n",
       "  <tbody>\n",
       "    <tr>\n",
       "      <th>0</th>\n",
       "      <td>Random Forest</td>\n",
       "      <td>0.699</td>\n",
       "      <td>0.009</td>\n",
       "    </tr>\n",
       "    <tr>\n",
       "      <th>1</th>\n",
       "      <td>Decision Tree</td>\n",
       "      <td>0.619</td>\n",
       "      <td>0.013</td>\n",
       "    </tr>\n",
       "    <tr>\n",
       "      <th>2</th>\n",
       "      <td>Support Vector Classification</td>\n",
       "      <td>0.615</td>\n",
       "      <td>0.007</td>\n",
       "    </tr>\n",
       "    <tr>\n",
       "      <th>3</th>\n",
       "      <td>Neural Network</td>\n",
       "      <td>0.606</td>\n",
       "      <td>0.008</td>\n",
       "    </tr>\n",
       "    <tr>\n",
       "      <th>4</th>\n",
       "      <td>K Nearest Neighbors</td>\n",
       "      <td>0.589</td>\n",
       "      <td>0.014</td>\n",
       "    </tr>\n",
       "    <tr>\n",
       "      <th>5</th>\n",
       "      <td>Logistic Regression</td>\n",
       "      <td>0.576</td>\n",
       "      <td>0.012</td>\n",
       "    </tr>\n",
       "    <tr>\n",
       "      <th>6</th>\n",
       "      <td>Gaussian Naive Bayes</td>\n",
       "      <td>0.505</td>\n",
       "      <td>0.025</td>\n",
       "    </tr>\n",
       "  </tbody>\n",
       "</table>\n",
       "</div>"
      ],
      "text/plain": [
       "                      Classifier  Mean Accuracy  Standard Deviation\n",
       "0                  Random Forest          0.699               0.009\n",
       "1                  Decision Tree          0.619               0.013\n",
       "2  Support Vector Classification          0.615               0.007\n",
       "3                 Neural Network          0.606               0.008\n",
       "4            K Nearest Neighbors          0.589               0.014\n",
       "5            Logistic Regression          0.576               0.012\n",
       "6           Gaussian Naive Bayes          0.505               0.025"
      ]
     },
     "metadata": {},
     "output_type": "display_data"
    }
   ],
   "source": [
    "models_cross_val_df = model_cross_val(ww_features_train_scaled, ww_quality_train, ww_features_test_scaled, ww_quality_test)\n",
    "display(models_cross_val_df)"
   ]
  }
 ],
 "metadata": {
  "kernelspec": {
   "display_name": "CAB",
   "language": "python",
   "name": "python3"
  },
  "language_info": {
   "codemirror_mode": {
    "name": "ipython",
    "version": 3
   },
   "file_extension": ".py",
   "mimetype": "text/x-python",
   "name": "python",
   "nbconvert_exporter": "python",
   "pygments_lexer": "ipython3",
   "version": "3.10.12"
  }
 },
 "nbformat": 4,
 "nbformat_minor": 2
}
