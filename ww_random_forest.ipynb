{
 "cells": [
  {
   "cell_type": "code",
   "execution_count": null,
   "metadata": {},
   "outputs": [],
   "source": [
    "import pandas as pd\n",
    "import numpy as np\n",
    "\n",
    "from sklearn.model_selection import train_test_split\n",
    "from sklearn.preprocessing import LabelEncoder\n",
    "from sklearn.preprocessing import StandardScaler\n",
    "from sklearn.metrics import accuracy_score, confusion_matrix, precision_score, recall_score, f1_score\n",
    "from sklearn.model_selection import cross_val_score\n",
    "\n",
    "\n",
    "# Import the relevant models:\n",
    "from sklearn.ensemble import RandomForestClassifier\n"
   ]
  },
  {
   "cell_type": "code",
   "execution_count": null,
   "metadata": {},
   "outputs": [],
   "source": [
    "ww = pd.read_csv('C:\\Asus WebStorage\\psabin@gmail.com\\MySyncFolder\\Data Science Course\\BlueBerry Winery\\winequality-white.csv', sep=';')\n",
    "\n",
    "ww['quality_label'] = ww['quality'].apply(lambda value: 'low'\n",
    "if value <= 5 else 'medium'\n",
    "if value <= 7 else 'high')\n",
    "\n",
    "# Transforming these labels into categrical data type instead of string\n",
    "ww['quality_label'] = pd.Categorical(ww['quality_label'],\n",
    "categories=['low', 'medium', 'high'])\n",
    "\n",
    "# Encode quality labels as numbers\n",
    "le = LabelEncoder()\n",
    "ww['encoded_quality_label'] = le.fit_transform(ww['quality_label'])  \n",
    "\n",
    "# Swap 0 for 3 to make the order make sense from low to high\n",
    "ww['encoded_quality_label'].replace(0,3,inplace=True)\n",
    "\n",
    "# Drop quality 1-10 and low-high columns\n",
    "ww.drop(['quality_label'], axis=1, inplace=True)\n",
    "ww.drop(['quality'], axis=1, inplace=True)\n",
    "\n",
    "# Create column vector for encoded quality label\n",
    "y_ww_quality = ww.encoded_quality_label\n"
   ]
  },
  {
   "cell_type": "code",
   "execution_count": null,
   "metadata": {},
   "outputs": [],
   "source": [
    "# Select ALL features\n",
    "ww_select = ww.drop(['encoded_quality_label'], axis=1)\n",
    "# Split data\n",
    "ww_features_train, ww_features_test, ww_quality_train, ww_quality_test = train_test_split(ww_select,y_ww_quality,test_size=0.2, random_state=19)\n",
    "# Scale features\n",
    "scaler = StandardScaler()\n",
    "ww_features_train_scaled = scaler.fit_transform(ww_features_train)\n",
    "ww_features_test_scaled = scaler.transform(ww_features_test)"
   ]
  }
 ],
 "metadata": {
  "language_info": {
   "name": "python"
  }
 },
 "nbformat": 4,
 "nbformat_minor": 2
}
